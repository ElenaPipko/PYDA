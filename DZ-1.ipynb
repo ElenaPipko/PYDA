{
 "cells": [
  {
   "cell_type": "code",
   "execution_count": null,
   "metadata": {},
   "outputs": [],
   "source": [
    "Задание 1"
   ]
  },
  {
   "cell_type": "code",
   "execution_count": 3,
   "metadata": {},
   "outputs": [
    {
     "data": {
      "text/plain": [
       "True"
      ]
     },
     "execution_count": 3,
     "metadata": {},
     "output_type": "execute_result"
    }
   ],
   "source": [
    "phrase_1 = 'Насколько проще было бы писать программы, если бы не заказчики'\n",
    "phrase_2 = '640Кб должно хватить для любых задач. Билл Гейтс (по легенде)'\n",
    "len(phrase_1) > len(phrase_2)"
   ]
  },
  {
   "cell_type": "code",
   "execution_count": 4,
   "metadata": {},
   "outputs": [
    {
     "data": {
      "text/plain": [
       "True"
      ]
     },
     "execution_count": 4,
     "metadata": {},
     "output_type": "execute_result"
    }
   ],
   "source": [
    "phrase_1 = '640Кб должно хватить для любых задач. Билл Гейтс (по легенде)'\n",
    "phrase_2 = 'Насколько проще было бы писать программы, если бы не заказчики'\n",
    "len(phrase_2) > len(phrase_1)"
   ]
  },
  {
   "cell_type": "code",
   "execution_count": 7,
   "metadata": {},
   "outputs": [
    {
     "data": {
      "text/plain": [
       "True"
      ]
     },
     "execution_count": 7,
     "metadata": {},
     "output_type": "execute_result"
    }
   ],
   "source": [
    "phrase_1 = 'Насколько проще было бы писать программы, если бы не заказчики'\n",
    "phrase_2 = 'Насколько проще было бы писать программы, если бы не заказчики'\n",
    "len(phrase_1) == len(phrase_2)"
   ]
  },
  {
   "cell_type": "code",
   "execution_count": null,
   "metadata": {},
   "outputs": [],
   "source": [
    "Задание 2 "
   ]
  },
  {
   "cell_type": "code",
   "execution_count": 7,
   "metadata": {},
   "outputs": [
    {
     "name": "stdout",
     "output_type": "stream",
     "text": [
      "Обычный год\n"
     ]
    }
   ],
   "source": [
    "year = 2019\n",
    "\n",
    "if year % 400 == 0:\n",
    "    print('Високосный год')\n",
    "elif year % 100 == 0:\n",
    "    print('Обычный год')\n",
    "elif year % 4 == 0:\n",
    "    print('Високосный год')\n",
    "else:\n",
    "    print('Обычный год')"
   ]
  },
  {
   "cell_type": "code",
   "execution_count": 11,
   "metadata": {},
   "outputs": [
    {
     "name": "stdout",
     "output_type": "stream",
     "text": [
      "Високосный год\n"
     ]
    }
   ],
   "source": [
    "year = 2020\n",
    "\n",
    "if year % 400 == 0:\n",
    "    print('Високосный год')\n",
    "elif year % 100 == 0:\n",
    "    print('Обычный год')\n",
    "elif year % 4 == 0:\n",
    "    print('Високосный год')\n",
    "else:\n",
    "    print('Обычный год')"
   ]
  },
  {
   "cell_type": "code",
   "execution_count": null,
   "metadata": {},
   "outputs": [],
   "source": [
    "Задание 3"
   ]
  },
  {
   "cell_type": "code",
   "execution_count": 34,
   "metadata": {},
   "outputs": [
    {
     "name": "stdout",
     "output_type": "stream",
     "text": [
      "Введите день:30\n",
      "Введите месяц:август\n",
      "Ваш знак зодиака:Дева\n"
     ]
    }
   ],
   "source": [
    "date=int(input(\"Введите день:\"))\n",
    "month=str(input(\"Введите месяц:\"))\n",
    "if (date>=21 and date<=31 and month=='март') or (month=='апрель' and date>=1 and date<=19):\n",
    "     print(\"Ваш знак зодиака:Овен\")\n",
    "elif (date>=20 and date<=30 and month=='апрель') or (month=='май' and date>=1 and date<=20):\n",
    "    print(\"Ваш знак зодиака:Телец\")\n",
    "elif (date>=21 and date<=31 and month=='май') or (month=='июнь' and date>=1 and date<=21):\n",
    "    print(\"Ваш знак зодиака:Близнецы\")\n",
    "elif (date>=22 and date<=30 and month=='июнь') or (month=='июль' and date>=1 and date<=22):\n",
    "    print(\"Ваш знак зодиака:Рак\")\n",
    "elif (date>=23 and date<=31 and month=='июль') or (month=='август' and date>=1 and date<=22):\n",
    "    print(\"Ваш знак зодиака:Лев\")\n",
    "elif (date>=23 and date<=31 and month=='август') or (month=='сентябрь' and date>=1 and date<=22):\n",
    "    print(\"Ваш знак зодиака:Дева\")\n",
    "elif (date>=23 and date<=30 and month=='сентябрь') or (month=='октябрь' and date>=1 and date<=23):\n",
    "    print(\"Ваш знак зодиака:Весы\")\n",
    "elif (date>=24 and date<=31 and month=='октябрь') or (month=='ноябрь' and date>=1 and date<=22):\n",
    "    print(\"Ваш знак зодиака:Скорпион\")\n",
    "elif (date>=23 and date<=30 and month=='ноябрь') or (month=='декабрь' and date>=1 and date<=21):\n",
    "    print (\"Ваш знак зодиака:Стрелец\")\n",
    "elif (date>=22 and date<=31 and month=='декабрь') or (month=='январь' and date>=1 and date<=20):\n",
    "    print (\"Ваш знак зодиака:Козерог\")\n",
    "elif (date>=21 and date<=31 and month=='январь') or (month=='февраль' and date>=1 and date<=18):\n",
    "    print (\"Ваш знак зодиака:Водолей\")\n",
    "elif (date>=19 and date<=29 and month=='февраль') or (month=='март' and date>=1 and date<=20):\n",
    "    print (\"Ваш знак зодиака:Рыбы\")\n",
    "else:\n",
    "    print (\"Не верно введена дата\")"
   ]
  },
  {
   "cell_type": "code",
   "execution_count": 36,
   "metadata": {},
   "outputs": [
    {
     "name": "stdout",
     "output_type": "stream",
     "text": [
      "Введите день:29\n",
      "Введите месяц:октябрь\n",
      "Ваш знак зодиака:Скорпион\n"
     ]
    }
   ],
   "source": [
    "date=int(input(\"Введите день:\"))\n",
    "month=str(input(\"Введите месяц:\"))\n",
    "if (date>=21 and date<=31 and month=='март') or (month=='апрель' and date>=1 and date<=19):\n",
    "     print(\"Ваш знак зодиака:Овен\")\n",
    "elif (date>=20 and date<=30 and month=='апрель') or (month=='май' and date>=1 and date<=20):\n",
    "    print(\"Ваш знак зодиака:Телец\")\n",
    "elif (date>=21 and date<=31 and month=='май') or (month=='июнь' and date>=1 and date<=21):\n",
    "    print(\"Ваш знак зодиака:Близнецы\")\n",
    "elif (date>=22 and date<=30 and month=='июнь') or (month=='июль' and date>=1 and date<=22):\n",
    "    print(\"Ваш знак зодиака:Рак\")\n",
    "elif (date>=23 and date<=31 and month=='июль') or (month=='август' and date>=1 and date<=22):\n",
    "    print(\"Ваш знак зодиака:Лев\")\n",
    "elif (date>=23 and date<=31 and month=='август') or (month=='сентябрь' and date>=1 and date<=22):\n",
    "    print(\"Ваш знак зодиака:Дева\")\n",
    "elif (date>=23 and date<=30 and month=='сентябрь') or (month=='октябрь' and date>=1 and date<=23):\n",
    "    print(\"Ваш знак зодиака:Весы\")\n",
    "elif (date>=24 and date<=31 and month=='октябрь') or (month=='ноябрь' and date>=1 and date<=22):\n",
    "    print(\"Ваш знак зодиака:Скорпион\")\n",
    "elif (date>=23 and date<=30 and month=='ноябрь') or (month=='декабрь' and date>=1 and date<=21):\n",
    "    print (\"Ваш знак зодиака:Стрелец\")\n",
    "elif (date>=22 and date<=31 and month=='декабрь') or (month=='январь' and date>=1 and date<=20):\n",
    "    print (\"Ваш знак зодиака:Козерог\")\n",
    "elif (date>=21 and date<=31 and month=='январь') or (month=='февраль' and date>=1 and date<=18):\n",
    "    print (\"Ваш знак зодиака:Водолей\")\n",
    "elif (date>=19 and date<=29 and month=='февраль') or (month=='март' and date>=1 and date<=20):\n",
    "    print (\"Ваш знак зодиака:Рыбы\")\n",
    "else:\n",
    "    print (\"Не верно введена дата\")"
   ]
  },
  {
   "cell_type": "code",
   "execution_count": null,
   "metadata": {},
   "outputs": [],
   "source": [
    "Задание 4"
   ]
  },
  {
   "cell_type": "code",
   "execution_count": 40,
   "metadata": {},
   "outputs": [
    {
     "name": "stdout",
     "output_type": "stream",
     "text": [
      "Упаковка для лыж\n"
     ]
    }
   ],
   "source": [
    "width = 10\n",
    "length = 205\n",
    "height = 5\n",
    "\n",
    "if width<=15 and length<=15 and height<=15:\n",
    "    print (\"Коробка №1\")\n",
    "elif (width>=15 and width<=50 and length<=15 and height<=15) or (length>=15 and length<=50 and width<=15 and height<=15) or (height>=15 and height<=50 and width<=15 and length<=15):\n",
    "    print (\"Коробка №2\")\n",
    "elif length>=200:\n",
    "    print (\"Упаковка для лыж\")\n",
    "else:\n",
    "    print (\"Стандартная коробка №3\")"
   ]
  },
  {
   "cell_type": "code",
   "execution_count": null,
   "metadata": {},
   "outputs": [],
   "source": [
    "Задание 5"
   ]
  },
  {
   "cell_type": "code",
   "execution_count": 52,
   "metadata": {},
   "outputs": [
    {
     "name": "stdout",
     "output_type": "stream",
     "text": [
      "Несчастливый билет\n"
     ]
    }
   ],
   "source": [
    "number = '123456'\n",
    "nums = [int(n) for n in number]\n",
    "if sum(nums [:3])== sum(nums [-3:]): \n",
    "    print(\"Счастливый билет\")\n",
    "else:\n",
    "    print(\"Несчастливый билет\")\n"
   ]
  },
  {
   "cell_type": "code",
   "execution_count": 48,
   "metadata": {},
   "outputs": [
    {
     "name": "stdout",
     "output_type": "stream",
     "text": [
      "Счастливый билет\n"
     ]
    }
   ],
   "source": [
    "number = '123321'\n",
    "nums = [int(n) for n in number]\n",
    "if sum(nums[:3]) == sum(nums[-3:]):\n",
    "    print(\"Счастливый билет\")\n",
    "else:\n",
    "    print(\"Несчастливый билет\")"
   ]
  },
  {
   "cell_type": "code",
   "execution_count": null,
   "metadata": {},
   "outputs": [],
   "source": [
    "Задание 6"
   ]
  },
  {
   "cell_type": "code",
   "execution_count": 67,
   "metadata": {
    "scrolled": true
   },
   "outputs": [
    {
     "name": "stdout",
     "output_type": "stream",
     "text": [
      "Введите тип фигуры:Круг\n",
      "Введите радиус круга:10\n",
      "Площадь круга: 314.16\n"
     ]
    }
   ],
   "source": [
    "import math\n",
    "tip=str(input(\"Введите тип фигуры:\"))\n",
    "if tip=='Круг':\n",
    "    r=float(input(\"Введите радиус круга:\"))\n",
    "    s=math.pi*(r**2)\n",
    "    print(\"Площадь круга:\",'%.2f' % s)\n",
    "elif tip=='Треугольник': \n",
    "    a=float(input(\"Введите сторону a =\"))\n",
    "    b=float(input(\"Введите сторону b =\"))\n",
    "    c=float(input(\"Введите сторону c =\"))\n",
    "    p=(a+b+c)/2\n",
    "    s=math.sqrt((p*(p-a)*(p-b)*(p-c)))\n",
    "    print(\"Площадь треугольника:\",'%.2f' % s)\n",
    "elif tip=='Прямоугольник': \n",
    "    a=float(input(\"Введите сторону a =\"))\n",
    "    b=float(input(\"Введите сторону b =\"))\n",
    "    s=a*b\n",
    "    print(\"Площадь прямоугольника:\",'%.2f' % s)"
   ]
  },
  {
   "cell_type": "code",
   "execution_count": 68,
   "metadata": {},
   "outputs": [
    {
     "name": "stdout",
     "output_type": "stream",
     "text": [
      "Введите тип фигуры:Треугольник\n",
      "Введите сторону a =2\n",
      "Введите сторону b =2\n",
      "Введите сторону c =3\n",
      "Площадь треугольника: 1.98\n"
     ]
    }
   ],
   "source": [
    "import math\n",
    "tip=str(input(\"Введите тип фигуры:\"))\n",
    "if tip=='Круг':\n",
    "    r=float(input(\"Введите радиус круга:\"))\n",
    "    s=math.pi*(r**2)\n",
    "    print(\"Площадь круга:\",'%.2f' % s)\n",
    "elif tip=='Треугольник': \n",
    "    a=float(input(\"Введите сторону a =\"))\n",
    "    b=float(input(\"Введите сторону b =\"))\n",
    "    c=float(input(\"Введите сторону c =\"))\n",
    "    p=(a+b+c)/2\n",
    "    s=math.sqrt((p*(p-a)*(p-b)*(p-c)))\n",
    "    print(\"Площадь треугольника:\",'%.2f' % s)\n",
    "elif tip=='Прямоугольник': \n",
    "    a=float(input(\"Введите сторону a =\"))\n",
    "    b=float(input(\"Введите сторону b =\"))\n",
    "    s=a*b\n",
    "    print(\"Площадь прямоугольника:\",'%.2f' % s)"
   ]
  }
 ],
 "metadata": {
  "kernelspec": {
   "display_name": "Python 3",
   "language": "python",
   "name": "python3"
  },
  "language_info": {
   "codemirror_mode": {
    "name": "ipython",
    "version": 3
   },
   "file_extension": ".py",
   "mimetype": "text/x-python",
   "name": "python",
   "nbconvert_exporter": "python",
   "pygments_lexer": "ipython3",
   "version": "3.8.3"
  }
 },
 "nbformat": 4,
 "nbformat_minor": 4
}
